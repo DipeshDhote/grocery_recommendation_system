{
 "cells": [
  {
   "cell_type": "code",
   "execution_count": 117,
   "metadata": {},
   "outputs": [],
   "source": [
    "# Importing Libraries\n",
    "import numpy as np\n",
    "import pandas as pd\n",
    "import sklearn\n",
    "import matplotlib.pyplot as plt\n",
    "import seaborn as sns\n",
    "import warnings\n",
    "warnings.simplefilter(action='ignore', category=FutureWarning)\n"
   ]
  },
  {
   "cell_type": "code",
   "execution_count": 118,
   "metadata": {},
   "outputs": [],
   "source": [
    "df = pd.read_csv('data/flipkart_clean_data.csv')"
   ]
  },
  {
   "cell_type": "code",
   "execution_count": 119,
   "metadata": {},
   "outputs": [
    {
     "data": {
      "text/html": [
       "<div>\n",
       "<style scoped>\n",
       "    .dataframe tbody tr th:only-of-type {\n",
       "        vertical-align: middle;\n",
       "    }\n",
       "\n",
       "    .dataframe tbody tr th {\n",
       "        vertical-align: top;\n",
       "    }\n",
       "\n",
       "    .dataframe thead th {\n",
       "        text-align: right;\n",
       "    }\n",
       "</style>\n",
       "<table border=\"1\" class=\"dataframe\">\n",
       "  <thead>\n",
       "    <tr style=\"text-align: right;\">\n",
       "      <th></th>\n",
       "      <th>Unnamed: 0.1</th>\n",
       "      <th>Unnamed: 0</th>\n",
       "      <th>id</th>\n",
       "      <th>name</th>\n",
       "      <th>price</th>\n",
       "      <th>mrp</th>\n",
       "      <th>variant</th>\n",
       "      <th>image_url</th>\n",
       "      <th>tags</th>\n",
       "    </tr>\n",
       "  </thead>\n",
       "  <tbody>\n",
       "    <tr>\n",
       "      <th>0</th>\n",
       "      <td>0</td>\n",
       "      <td>0</td>\n",
       "      <td>SMPEPGKYW9GZWYVT</td>\n",
       "      <td>Clinic Plus Strong &amp; Thick Health Shampoo</td>\n",
       "      <td>179.0</td>\n",
       "      <td>189.0</td>\n",
       "      <td>340 ml</td>\n",
       "      <td>https://rukminim1.flixcart.com/image/280/280/...</td>\n",
       "      <td>clinic plu strong &amp; thick health shampoo 179.0...</td>\n",
       "    </tr>\n",
       "    <tr>\n",
       "      <th>1</th>\n",
       "      <td>1</td>\n",
       "      <td>1</td>\n",
       "      <td>BWSFH4YQYC9RSNZU</td>\n",
       "      <td>DOVE Deeply Nourishing Body Wash</td>\n",
       "      <td>360.0</td>\n",
       "      <td>360.0</td>\n",
       "      <td>800 ml</td>\n",
       "      <td>https://rukminim1.flixcart.com/image/280/280/...</td>\n",
       "      <td>dove deepli nourish bodi wash 360.0 360.0 800 ml</td>\n",
       "    </tr>\n",
       "    <tr>\n",
       "      <th>2</th>\n",
       "      <td>2</td>\n",
       "      <td>2</td>\n",
       "      <td>EDOEVT5UGZXJYAHU</td>\n",
       "      <td>EMAMI Healthy &amp; Tasty Refined Rice Bran Oil P...</td>\n",
       "      <td>167.0</td>\n",
       "      <td>180.0</td>\n",
       "      <td>1 L</td>\n",
       "      <td>https://rukminim1.flixcart.com/image/280/280/...</td>\n",
       "      <td>emami healthi &amp; tasti refin rice bran oil pouc...</td>\n",
       "    </tr>\n",
       "    <tr>\n",
       "      <th>3</th>\n",
       "      <td>3</td>\n",
       "      <td>3</td>\n",
       "      <td>FLRETEFHF5EK5ECT</td>\n",
       "      <td>Tata Sampann Fine Besan</td>\n",
       "      <td>19.0</td>\n",
       "      <td>64.0</td>\n",
       "      <td>500 g</td>\n",
       "      <td>https://rukminim1.flixcart.com/image/280/280/...</td>\n",
       "      <td>tata sampann fine besan 19.0 64.0 500 g</td>\n",
       "    </tr>\n",
       "    <tr>\n",
       "      <th>4</th>\n",
       "      <td>4</td>\n",
       "      <td>4</td>\n",
       "      <td>BFRFVEHYQQMAZXKY</td>\n",
       "      <td>Colgate Vedshakti Mouth Protect Spray</td>\n",
       "      <td>99.0</td>\n",
       "      <td>99.0</td>\n",
       "      <td>10 g</td>\n",
       "      <td>https://rukminim1.flixcart.com/image/280/280/...</td>\n",
       "      <td>colgat vedshakti mouth protect spray 99.0 99.0...</td>\n",
       "    </tr>\n",
       "  </tbody>\n",
       "</table>\n",
       "</div>"
      ],
      "text/plain": [
       "   Unnamed: 0.1  Unnamed: 0                id  \\\n",
       "0             0           0  SMPEPGKYW9GZWYVT   \n",
       "1             1           1  BWSFH4YQYC9RSNZU   \n",
       "2             2           2  EDOEVT5UGZXJYAHU   \n",
       "3             3           3  FLRETEFHF5EK5ECT   \n",
       "4             4           4  BFRFVEHYQQMAZXKY   \n",
       "\n",
       "                                                name   price     mrp  variant  \\\n",
       "0          Clinic Plus Strong & Thick Health Shampoo   179.0   189.0   340 ml   \n",
       "1                   DOVE Deeply Nourishing Body Wash   360.0   360.0   800 ml   \n",
       "2   EMAMI Healthy & Tasty Refined Rice Bran Oil P...   167.0   180.0      1 L   \n",
       "3                            Tata Sampann Fine Besan    19.0    64.0    500 g   \n",
       "4              Colgate Vedshakti Mouth Protect Spray    99.0    99.0     10 g   \n",
       "\n",
       "                                           image_url  \\\n",
       "0   https://rukminim1.flixcart.com/image/280/280/...   \n",
       "1   https://rukminim1.flixcart.com/image/280/280/...   \n",
       "2   https://rukminim1.flixcart.com/image/280/280/...   \n",
       "3   https://rukminim1.flixcart.com/image/280/280/...   \n",
       "4   https://rukminim1.flixcart.com/image/280/280/...   \n",
       "\n",
       "                                                tags  \n",
       "0  clinic plu strong & thick health shampoo 179.0...  \n",
       "1   dove deepli nourish bodi wash 360.0 360.0 800 ml  \n",
       "2  emami healthi & tasti refin rice bran oil pouc...  \n",
       "3            tata sampann fine besan 19.0 64.0 500 g  \n",
       "4  colgat vedshakti mouth protect spray 99.0 99.0...  "
      ]
     },
     "execution_count": 119,
     "metadata": {},
     "output_type": "execute_result"
    }
   ],
   "source": [
    "df.head()"
   ]
  },
  {
   "cell_type": "code",
   "execution_count": 120,
   "metadata": {},
   "outputs": [
    {
     "data": {
      "text/plain": [
       "(798, 9)"
      ]
     },
     "execution_count": 120,
     "metadata": {},
     "output_type": "execute_result"
    }
   ],
   "source": [
    "df.shape"
   ]
  },
  {
   "cell_type": "code",
   "execution_count": 121,
   "metadata": {},
   "outputs": [],
   "source": [
    "df.drop(['tags'],axis=1,inplace=True)"
   ]
  },
  {
   "cell_type": "code",
   "execution_count": 122,
   "metadata": {},
   "outputs": [],
   "source": [
    "# drop dupicate records present in id column\n",
    "df.drop_duplicates(subset=['id'],inplace = True)"
   ]
  },
  {
   "cell_type": "code",
   "execution_count": 123,
   "metadata": {},
   "outputs": [
    {
     "data": {
      "text/plain": [
       "0"
      ]
     },
     "execution_count": 123,
     "metadata": {},
     "output_type": "execute_result"
    }
   ],
   "source": [
    "df['id'].duplicated().sum()"
   ]
  },
  {
   "cell_type": "code",
   "execution_count": 124,
   "metadata": {},
   "outputs": [],
   "source": [
    "# drop dupicate records present in image_url column\n",
    "df.drop_duplicates(subset=['image_url'],inplace = True)"
   ]
  },
  {
   "cell_type": "code",
   "execution_count": 125,
   "metadata": {},
   "outputs": [],
   "source": [
    "df['tags'] = df['name'] + df['variant']"
   ]
  },
  {
   "cell_type": "code",
   "execution_count": 126,
   "metadata": {},
   "outputs": [
    {
     "name": "stdout",
     "output_type": "stream",
     "text": [
      "Requirement already satisfied: nltk in c:\\users\\dipes\\onedrive\\desktop\\grocery_recommendation_system\\venv\\lib\\site-packages (3.8.1)\n",
      "Requirement already satisfied: click in c:\\users\\dipes\\onedrive\\desktop\\grocery_recommendation_system\\venv\\lib\\site-packages (from nltk) (8.1.7)\n",
      "Requirement already satisfied: joblib in c:\\users\\dipes\\onedrive\\desktop\\grocery_recommendation_system\\venv\\lib\\site-packages (from nltk) (1.4.0)\n",
      "Requirement already satisfied: regex>=2021.8.3 in c:\\users\\dipes\\onedrive\\desktop\\grocery_recommendation_system\\venv\\lib\\site-packages (from nltk) (2024.4.16)\n",
      "Requirement already satisfied: tqdm in c:\\users\\dipes\\onedrive\\desktop\\grocery_recommendation_system\\venv\\lib\\site-packages (from nltk) (4.66.2)\n",
      "Requirement already satisfied: colorama in c:\\users\\dipes\\onedrive\\desktop\\grocery_recommendation_system\\venv\\lib\\site-packages (from click->nltk) (0.4.6)\n"
     ]
    }
   ],
   "source": [
    "! pip install nltk\n"
   ]
  },
  {
   "cell_type": "code",
   "execution_count": 127,
   "metadata": {},
   "outputs": [],
   "source": [
    "import nltk\n",
    "from nltk.stem.porter import PorterStemmer\n",
    "ps = PorterStemmer()"
   ]
  },
  {
   "cell_type": "code",
   "execution_count": 128,
   "metadata": {},
   "outputs": [],
   "source": [
    "# this fuction is conver word into it's root words\n",
    "def stem(text):\n",
    "    y = []\n",
    "    \n",
    "    for i in text.split():\n",
    "        y.append(ps.stem(i))\n",
    "    \n",
    "    return \" \".join(y)"
   ]
  },
  {
   "cell_type": "code",
   "execution_count": 129,
   "metadata": {},
   "outputs": [],
   "source": [
    "df['tags'] = df['tags'].apply(stem)"
   ]
  },
  {
   "cell_type": "code",
   "execution_count": 131,
   "metadata": {},
   "outputs": [
    {
     "data": {
      "text/html": [
       "<div>\n",
       "<style scoped>\n",
       "    .dataframe tbody tr th:only-of-type {\n",
       "        vertical-align: middle;\n",
       "    }\n",
       "\n",
       "    .dataframe tbody tr th {\n",
       "        vertical-align: top;\n",
       "    }\n",
       "\n",
       "    .dataframe thead th {\n",
       "        text-align: right;\n",
       "    }\n",
       "</style>\n",
       "<table border=\"1\" class=\"dataframe\">\n",
       "  <thead>\n",
       "    <tr style=\"text-align: right;\">\n",
       "      <th></th>\n",
       "      <th>Unnamed: 0.1</th>\n",
       "      <th>Unnamed: 0</th>\n",
       "      <th>id</th>\n",
       "      <th>name</th>\n",
       "      <th>price</th>\n",
       "      <th>mrp</th>\n",
       "      <th>variant</th>\n",
       "      <th>image_url</th>\n",
       "      <th>tags</th>\n",
       "    </tr>\n",
       "  </thead>\n",
       "  <tbody>\n",
       "    <tr>\n",
       "      <th>0</th>\n",
       "      <td>0</td>\n",
       "      <td>0</td>\n",
       "      <td>SMPEPGKYW9GZWYVT</td>\n",
       "      <td>Clinic Plus Strong &amp; Thick Health Shampoo</td>\n",
       "      <td>179.0</td>\n",
       "      <td>189.0</td>\n",
       "      <td>340 ml</td>\n",
       "      <td>https://rukminim1.flixcart.com/image/280/280/...</td>\n",
       "      <td>clinic plu strong &amp; thick health shampoo 340 ml</td>\n",
       "    </tr>\n",
       "    <tr>\n",
       "      <th>1</th>\n",
       "      <td>1</td>\n",
       "      <td>1</td>\n",
       "      <td>BWSFH4YQYC9RSNZU</td>\n",
       "      <td>DOVE Deeply Nourishing Body Wash</td>\n",
       "      <td>360.0</td>\n",
       "      <td>360.0</td>\n",
       "      <td>800 ml</td>\n",
       "      <td>https://rukminim1.flixcart.com/image/280/280/...</td>\n",
       "      <td>dove deepli nourish bodi wash 800 ml</td>\n",
       "    </tr>\n",
       "  </tbody>\n",
       "</table>\n",
       "</div>"
      ],
      "text/plain": [
       "   Unnamed: 0.1  Unnamed: 0                id  \\\n",
       "0             0           0  SMPEPGKYW9GZWYVT   \n",
       "1             1           1  BWSFH4YQYC9RSNZU   \n",
       "\n",
       "                                         name   price     mrp  variant  \\\n",
       "0   Clinic Plus Strong & Thick Health Shampoo   179.0   189.0   340 ml   \n",
       "1            DOVE Deeply Nourishing Body Wash   360.0   360.0   800 ml   \n",
       "\n",
       "                                           image_url  \\\n",
       "0   https://rukminim1.flixcart.com/image/280/280/...   \n",
       "1   https://rukminim1.flixcart.com/image/280/280/...   \n",
       "\n",
       "                                              tags  \n",
       "0  clinic plu strong & thick health shampoo 340 ml  \n",
       "1             dove deepli nourish bodi wash 800 ml  "
      ]
     },
     "execution_count": 131,
     "metadata": {},
     "output_type": "execute_result"
    }
   ],
   "source": [
    "df.head(2)"
   ]
  },
  {
   "cell_type": "code",
   "execution_count": 132,
   "metadata": {},
   "outputs": [],
   "source": [
    "from sklearn.feature_extraction.text import CountVectorizer\n",
    "cv = CountVectorizer( max_features=2000,stop_words=\"english\" )"
   ]
  },
  {
   "cell_type": "code",
   "execution_count": 133,
   "metadata": {},
   "outputs": [],
   "source": [
    "vectors = cv.fit_transform(df['tags']).toarray()"
   ]
  },
  {
   "cell_type": "code",
   "execution_count": 134,
   "metadata": {},
   "outputs": [],
   "source": [
    "from sklearn.metrics.pairwise import cosine_similarity"
   ]
  },
  {
   "cell_type": "code",
   "execution_count": 135,
   "metadata": {},
   "outputs": [],
   "source": [
    "similarity = cosine_similarity(vectors)"
   ]
  },
  {
   "cell_type": "code",
   "execution_count": 136,
   "metadata": {},
   "outputs": [
    {
     "data": {
      "text/plain": [
       "[(694, 0.40089186286863654),\n",
       " (796, 0.40089186286863654),\n",
       " (739, 0.3779644730092272),\n",
       " (19, 0.3086066999241838),\n",
       " (35, 0.3086066999241838)]"
      ]
     },
     "execution_count": 136,
     "metadata": {},
     "output_type": "execute_result"
    }
   ],
   "source": [
    "sorted(list(enumerate(similarity[1])),reverse = True , key=lambda x:x[1])[1:6]"
   ]
  },
  {
   "cell_type": "code",
   "execution_count": 137,
   "metadata": {},
   "outputs": [],
   "source": [
    "def recommended(product):\n",
    "    name_index = df[df['name'].str.contains(product)].index[0]\n",
    "    distances = sorted(list(enumerate(similarity[name_index])),reverse = True ,key=lambda x:x[1])\n",
    "    \n",
    "    \n",
    "    for i in distances[1:6]:\n",
    "        print(df.iloc[i[0]][['name','variant','price','image_url']])\n",
    "        print(\"----------------------------------------------------\\n\")\n",
    "        "
   ]
  },
  {
   "cell_type": "code",
   "execution_count": 138,
   "metadata": {},
   "outputs": [
    {
     "name": "stdout",
     "output_type": "stream",
     "text": [
      "name                      DETTOL Cool Body Wash and Shower Gel\n",
      "variant                                                 250 ml\n",
      "price                                                    160.0\n",
      "image_url     https://rukminim1.flixcart.com/image/280/280/...\n",
      "Name: 694, dtype: object\n",
      "----------------------------------------------------\n",
      "\n",
      "name                   DETTOL Refresh Body Wash and Shower Gel\n",
      "variant                                                 250 ml\n",
      "price                                                    160.0\n",
      "image_url     https://rukminim1.flixcart.com/image/280/280/...\n",
      "Name: 796, dtype: object\n",
      "----------------------------------------------------\n",
      "\n",
      "name                NIVEA Body Wash\n",
      "variant                       239.0\n",
      "price         Fresh Pure Shower Gel\n",
      "image_url                    500 ml\n",
      "Name: 739, dtype: object\n",
      "----------------------------------------------------\n",
      "\n",
      "name                              DOVE Daily Shine Conditioner\n",
      "variant                                                 180 ml\n",
      "price                                                    161.0\n",
      "image_url     https://rukminim1.flixcart.com/image/280/280/...\n",
      "Name: 19, dtype: object\n",
      "----------------------------------------------------\n",
      "\n",
      "name                                  DOVE Daily Shine Shampoo\n",
      "variant                                                 650 ml\n",
      "price                                                    464.0\n",
      "image_url     https://rukminim1.flixcart.com/image/280/280/...\n",
      "Name: 35, dtype: object\n",
      "----------------------------------------------------\n",
      "\n"
     ]
    }
   ],
   "source": [
    "recommended('DOVE Deeply Nourishing Body Wash')"
   ]
  },
  {
   "cell_type": "code",
   "execution_count": 139,
   "metadata": {},
   "outputs": [],
   "source": [
    "import pickle"
   ]
  }
 ],
 "metadata": {
  "kernelspec": {
   "display_name": "Python 3",
   "language": "python",
   "name": "python3"
  },
  "language_info": {
   "codemirror_mode": {
    "name": "ipython",
    "version": 3
   },
   "file_extension": ".py",
   "mimetype": "text/x-python",
   "name": "python",
   "nbconvert_exporter": "python",
   "pygments_lexer": "ipython3",
   "version": "3.9.0"
  }
 },
 "nbformat": 4,
 "nbformat_minor": 2
}
