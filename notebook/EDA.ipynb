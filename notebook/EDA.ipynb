{
 "cells": [
  {
   "cell_type": "markdown",
   "metadata": {},
   "source": [
    "### 2.1 Import Data and Required Packages\n"
   ]
  },
  {
   "cell_type": "markdown",
   "metadata": {},
   "source": [
    "**Importing Pandas, Numpy, Matplotlib, Seaborn and Warings Library.**"
   ]
  },
  {
   "cell_type": "code",
   "execution_count": 59,
   "metadata": {},
   "outputs": [],
   "source": [
    "# Importing Libraries\n",
    "import numpy as np\n",
    "import pandas as pd\n",
    "import sklearn\n",
    "import matplotlib.pyplot as plt\n",
    "import seaborn as sns\n",
    "import warnings\n",
    "warnings.simplefilter(action='ignore', category=FutureWarning)\n"
   ]
  },
  {
   "cell_type": "markdown",
   "metadata": {},
   "source": [
    "**Import the CSV Data as Pandas DataFrame**"
   ]
  },
  {
   "cell_type": "code",
   "execution_count": 60,
   "metadata": {},
   "outputs": [],
   "source": [
    "df = pd.read_csv('data/flipkart_clean_data.csv')"
   ]
  },
  {
   "cell_type": "markdown",
   "metadata": {},
   "source": [
    "**Show Top 5 Records**"
   ]
  },
  {
   "cell_type": "code",
   "execution_count": 61,
   "metadata": {},
   "outputs": [
    {
     "data": {
      "text/html": [
       "<div>\n",
       "<style scoped>\n",
       "    .dataframe tbody tr th:only-of-type {\n",
       "        vertical-align: middle;\n",
       "    }\n",
       "\n",
       "    .dataframe tbody tr th {\n",
       "        vertical-align: top;\n",
       "    }\n",
       "\n",
       "    .dataframe thead th {\n",
       "        text-align: right;\n",
       "    }\n",
       "</style>\n",
       "<table border=\"1\" class=\"dataframe\">\n",
       "  <thead>\n",
       "    <tr style=\"text-align: right;\">\n",
       "      <th></th>\n",
       "      <th>Unnamed: 0.1</th>\n",
       "      <th>Unnamed: 0</th>\n",
       "      <th>id</th>\n",
       "      <th>name</th>\n",
       "      <th>price</th>\n",
       "      <th>mrp</th>\n",
       "      <th>variant</th>\n",
       "      <th>image_url</th>\n",
       "      <th>tags</th>\n",
       "    </tr>\n",
       "  </thead>\n",
       "  <tbody>\n",
       "    <tr>\n",
       "      <th>0</th>\n",
       "      <td>0</td>\n",
       "      <td>0</td>\n",
       "      <td>SMPEPGKYW9GZWYVT</td>\n",
       "      <td>Clinic Plus Strong &amp; Thick Health Shampoo</td>\n",
       "      <td>179.0</td>\n",
       "      <td>189.0</td>\n",
       "      <td>340 ml</td>\n",
       "      <td>https://rukminim1.flixcart.com/image/280/280/...</td>\n",
       "      <td>clinic plu strong &amp; thick health shampoo 179.0...</td>\n",
       "    </tr>\n",
       "    <tr>\n",
       "      <th>1</th>\n",
       "      <td>1</td>\n",
       "      <td>1</td>\n",
       "      <td>BWSFH4YQYC9RSNZU</td>\n",
       "      <td>DOVE Deeply Nourishing Body Wash</td>\n",
       "      <td>360.0</td>\n",
       "      <td>360.0</td>\n",
       "      <td>800 ml</td>\n",
       "      <td>https://rukminim1.flixcart.com/image/280/280/...</td>\n",
       "      <td>dove deepli nourish bodi wash 360.0 360.0 800 ml</td>\n",
       "    </tr>\n",
       "    <tr>\n",
       "      <th>2</th>\n",
       "      <td>2</td>\n",
       "      <td>2</td>\n",
       "      <td>EDOEVT5UGZXJYAHU</td>\n",
       "      <td>EMAMI Healthy &amp; Tasty Refined Rice Bran Oil P...</td>\n",
       "      <td>167.0</td>\n",
       "      <td>180.0</td>\n",
       "      <td>1 L</td>\n",
       "      <td>https://rukminim1.flixcart.com/image/280/280/...</td>\n",
       "      <td>emami healthi &amp; tasti refin rice bran oil pouc...</td>\n",
       "    </tr>\n",
       "    <tr>\n",
       "      <th>3</th>\n",
       "      <td>3</td>\n",
       "      <td>3</td>\n",
       "      <td>FLRETEFHF5EK5ECT</td>\n",
       "      <td>Tata Sampann Fine Besan</td>\n",
       "      <td>19.0</td>\n",
       "      <td>64.0</td>\n",
       "      <td>500 g</td>\n",
       "      <td>https://rukminim1.flixcart.com/image/280/280/...</td>\n",
       "      <td>tata sampann fine besan 19.0 64.0 500 g</td>\n",
       "    </tr>\n",
       "    <tr>\n",
       "      <th>4</th>\n",
       "      <td>4</td>\n",
       "      <td>4</td>\n",
       "      <td>BFRFVEHYQQMAZXKY</td>\n",
       "      <td>Colgate Vedshakti Mouth Protect Spray</td>\n",
       "      <td>99.0</td>\n",
       "      <td>99.0</td>\n",
       "      <td>10 g</td>\n",
       "      <td>https://rukminim1.flixcart.com/image/280/280/...</td>\n",
       "      <td>colgat vedshakti mouth protect spray 99.0 99.0...</td>\n",
       "    </tr>\n",
       "  </tbody>\n",
       "</table>\n",
       "</div>"
      ],
      "text/plain": [
       "   Unnamed: 0.1  Unnamed: 0                id  \\\n",
       "0             0           0  SMPEPGKYW9GZWYVT   \n",
       "1             1           1  BWSFH4YQYC9RSNZU   \n",
       "2             2           2  EDOEVT5UGZXJYAHU   \n",
       "3             3           3  FLRETEFHF5EK5ECT   \n",
       "4             4           4  BFRFVEHYQQMAZXKY   \n",
       "\n",
       "                                                name   price     mrp  variant  \\\n",
       "0          Clinic Plus Strong & Thick Health Shampoo   179.0   189.0   340 ml   \n",
       "1                   DOVE Deeply Nourishing Body Wash   360.0   360.0   800 ml   \n",
       "2   EMAMI Healthy & Tasty Refined Rice Bran Oil P...   167.0   180.0      1 L   \n",
       "3                            Tata Sampann Fine Besan    19.0    64.0    500 g   \n",
       "4              Colgate Vedshakti Mouth Protect Spray    99.0    99.0     10 g   \n",
       "\n",
       "                                           image_url  \\\n",
       "0   https://rukminim1.flixcart.com/image/280/280/...   \n",
       "1   https://rukminim1.flixcart.com/image/280/280/...   \n",
       "2   https://rukminim1.flixcart.com/image/280/280/...   \n",
       "3   https://rukminim1.flixcart.com/image/280/280/...   \n",
       "4   https://rukminim1.flixcart.com/image/280/280/...   \n",
       "\n",
       "                                                tags  \n",
       "0  clinic plu strong & thick health shampoo 179.0...  \n",
       "1   dove deepli nourish bodi wash 360.0 360.0 800 ml  \n",
       "2  emami healthi & tasti refin rice bran oil pouc...  \n",
       "3            tata sampann fine besan 19.0 64.0 500 g  \n",
       "4  colgat vedshakti mouth protect spray 99.0 99.0...  "
      ]
     },
     "execution_count": 61,
     "metadata": {},
     "output_type": "execute_result"
    }
   ],
   "source": [
    "df.head()"
   ]
  },
  {
   "cell_type": "markdown",
   "metadata": {},
   "source": [
    "**Shape of the dataset**"
   ]
  },
  {
   "cell_type": "code",
   "execution_count": 62,
   "metadata": {},
   "outputs": [
    {
     "data": {
      "text/plain": [
       "(798, 9)"
      ]
     },
     "execution_count": 62,
     "metadata": {},
     "output_type": "execute_result"
    }
   ],
   "source": [
    "df.shape"
   ]
  },
  {
   "cell_type": "markdown",
   "metadata": {},
   "source": [
    "**Summary of the dataset**"
   ]
  },
  {
   "cell_type": "code",
   "execution_count": 63,
   "metadata": {},
   "outputs": [
    {
     "data": {
      "text/html": [
       "<div>\n",
       "<style scoped>\n",
       "    .dataframe tbody tr th:only-of-type {\n",
       "        vertical-align: middle;\n",
       "    }\n",
       "\n",
       "    .dataframe tbody tr th {\n",
       "        vertical-align: top;\n",
       "    }\n",
       "\n",
       "    .dataframe thead th {\n",
       "        text-align: right;\n",
       "    }\n",
       "</style>\n",
       "<table border=\"1\" class=\"dataframe\">\n",
       "  <thead>\n",
       "    <tr style=\"text-align: right;\">\n",
       "      <th></th>\n",
       "      <th>Unnamed: 0.1</th>\n",
       "      <th>Unnamed: 0</th>\n",
       "    </tr>\n",
       "  </thead>\n",
       "  <tbody>\n",
       "    <tr>\n",
       "      <th>count</th>\n",
       "      <td>798.000000</td>\n",
       "      <td>798.000000</td>\n",
       "    </tr>\n",
       "    <tr>\n",
       "      <th>mean</th>\n",
       "      <td>484.794486</td>\n",
       "      <td>484.794486</td>\n",
       "    </tr>\n",
       "    <tr>\n",
       "      <th>std</th>\n",
       "      <td>296.074794</td>\n",
       "      <td>296.074794</td>\n",
       "    </tr>\n",
       "    <tr>\n",
       "      <th>min</th>\n",
       "      <td>0.000000</td>\n",
       "      <td>0.000000</td>\n",
       "    </tr>\n",
       "    <tr>\n",
       "      <th>25%</th>\n",
       "      <td>221.250000</td>\n",
       "      <td>221.250000</td>\n",
       "    </tr>\n",
       "    <tr>\n",
       "      <th>50%</th>\n",
       "      <td>477.500000</td>\n",
       "      <td>477.500000</td>\n",
       "    </tr>\n",
       "    <tr>\n",
       "      <th>75%</th>\n",
       "      <td>740.500000</td>\n",
       "      <td>740.500000</td>\n",
       "    </tr>\n",
       "    <tr>\n",
       "      <th>max</th>\n",
       "      <td>1007.000000</td>\n",
       "      <td>1007.000000</td>\n",
       "    </tr>\n",
       "  </tbody>\n",
       "</table>\n",
       "</div>"
      ],
      "text/plain": [
       "       Unnamed: 0.1   Unnamed: 0\n",
       "count    798.000000   798.000000\n",
       "mean     484.794486   484.794486\n",
       "std      296.074794   296.074794\n",
       "min        0.000000     0.000000\n",
       "25%      221.250000   221.250000\n",
       "50%      477.500000   477.500000\n",
       "75%      740.500000   740.500000\n",
       "max     1007.000000  1007.000000"
      ]
     },
     "execution_count": 63,
     "metadata": {},
     "output_type": "execute_result"
    }
   ],
   "source": [
    "# Display summary statistics for a dataframe\n",
    "df.describe()"
   ]
  },
  {
   "cell_type": "markdown",
   "metadata": {},
   "source": [
    "**Check Datatypes in the dataset**"
   ]
  },
  {
   "cell_type": "code",
   "execution_count": 64,
   "metadata": {},
   "outputs": [
    {
     "name": "stdout",
     "output_type": "stream",
     "text": [
      "<class 'pandas.core.frame.DataFrame'>\n",
      "RangeIndex: 798 entries, 0 to 797\n",
      "Data columns (total 9 columns):\n",
      " #   Column        Non-Null Count  Dtype \n",
      "---  ------        --------------  ----- \n",
      " 0   Unnamed: 0.1  798 non-null    int64 \n",
      " 1   Unnamed: 0    798 non-null    int64 \n",
      " 2   id            798 non-null    object\n",
      " 3   name          798 non-null    object\n",
      " 4   price         798 non-null    object\n",
      " 5   mrp           798 non-null    object\n",
      " 6   variant       798 non-null    object\n",
      " 7   image_url     798 non-null    object\n",
      " 8   tags          798 non-null    object\n",
      "dtypes: int64(2), object(7)\n",
      "memory usage: 56.2+ KB\n"
     ]
    }
   ],
   "source": [
    "# Check Null and Dtypes\n",
    "df.info()"
   ]
  },
  {
   "cell_type": "markdown",
   "metadata": {},
   "source": [
    "### Feature Information\n",
    "* **id:** Shows unique product id\n",
    "* **name:** Name of the product.\n",
    "* **price:**  Selling price of the product\n",
    "* **mrp:** MRP of the product\n",
    "* **image_url:** Image url of product\n"
   ]
  },
  {
   "cell_type": "code",
   "execution_count": 65,
   "metadata": {},
   "outputs": [],
   "source": [
    "df.drop(['tags'],axis=1,inplace=True)"
   ]
  },
  {
   "cell_type": "code",
   "execution_count": 66,
   "metadata": {},
   "outputs": [],
   "source": [
    "# drop dupicate records present in id column\n",
    "df.drop_duplicates(subset=['id'],inplace = True)"
   ]
  },
  {
   "cell_type": "code",
   "execution_count": 67,
   "metadata": {},
   "outputs": [
    {
     "data": {
      "text/plain": [
       "0"
      ]
     },
     "execution_count": 67,
     "metadata": {},
     "output_type": "execute_result"
    }
   ],
   "source": [
    "df['id'].duplicated().sum()"
   ]
  },
  {
   "cell_type": "code",
   "execution_count": 68,
   "metadata": {},
   "outputs": [],
   "source": [
    "# drop dupicate records present in image_url column\n",
    "df.drop_duplicates(subset=['image_url'],inplace = True)"
   ]
  },
  {
   "cell_type": "code",
   "execution_count": 69,
   "metadata": {},
   "outputs": [],
   "source": [
    "df['tags'] = df['name']"
   ]
  },
  {
   "cell_type": "code",
   "execution_count": 70,
   "metadata": {},
   "outputs": [
    {
     "name": "stdout",
     "output_type": "stream",
     "text": [
      "Requirement already satisfied: nltk in c:\\users\\dipes\\onedrive\\desktop\\grocery_recommendation_system\\venv\\lib\\site-packages (3.8.1)\n",
      "Requirement already satisfied: click in c:\\users\\dipes\\onedrive\\desktop\\grocery_recommendation_system\\venv\\lib\\site-packages (from nltk) (8.1.7)\n",
      "Requirement already satisfied: joblib in c:\\users\\dipes\\onedrive\\desktop\\grocery_recommendation_system\\venv\\lib\\site-packages (from nltk) (1.4.0)\n",
      "Requirement already satisfied: regex>=2021.8.3 in c:\\users\\dipes\\onedrive\\desktop\\grocery_recommendation_system\\venv\\lib\\site-packages (from nltk) (2024.4.16)\n",
      "Requirement already satisfied: tqdm in c:\\users\\dipes\\onedrive\\desktop\\grocery_recommendation_system\\venv\\lib\\site-packages (from nltk) (4.66.2)\n",
      "Requirement already satisfied: colorama in c:\\users\\dipes\\onedrive\\desktop\\grocery_recommendation_system\\venv\\lib\\site-packages (from click->nltk) (0.4.6)\n"
     ]
    }
   ],
   "source": [
    "! pip install nltk\n"
   ]
  },
  {
   "cell_type": "code",
   "execution_count": 71,
   "metadata": {},
   "outputs": [],
   "source": [
    "import nltk\n",
    "from nltk.stem.porter import PorterStemmer\n",
    "ps = PorterStemmer()"
   ]
  },
  {
   "cell_type": "code",
   "execution_count": 72,
   "metadata": {},
   "outputs": [],
   "source": [
    "# this fuction is conver word into it's root words\n",
    "def stem(text):\n",
    "    y = []\n",
    "    \n",
    "    for i in text.split():\n",
    "        y.append(ps.stem(i))\n",
    "    \n",
    "    return \" \".join(y)"
   ]
  },
  {
   "cell_type": "code",
   "execution_count": 73,
   "metadata": {},
   "outputs": [],
   "source": [
    "df['tags'] = df['tags'].apply(stem)"
   ]
  },
  {
   "cell_type": "code",
   "execution_count": 74,
   "metadata": {},
   "outputs": [
    {
     "data": {
      "text/html": [
       "<div>\n",
       "<style scoped>\n",
       "    .dataframe tbody tr th:only-of-type {\n",
       "        vertical-align: middle;\n",
       "    }\n",
       "\n",
       "    .dataframe tbody tr th {\n",
       "        vertical-align: top;\n",
       "    }\n",
       "\n",
       "    .dataframe thead th {\n",
       "        text-align: right;\n",
       "    }\n",
       "</style>\n",
       "<table border=\"1\" class=\"dataframe\">\n",
       "  <thead>\n",
       "    <tr style=\"text-align: right;\">\n",
       "      <th></th>\n",
       "      <th>Unnamed: 0.1</th>\n",
       "      <th>Unnamed: 0</th>\n",
       "      <th>id</th>\n",
       "      <th>name</th>\n",
       "      <th>price</th>\n",
       "      <th>mrp</th>\n",
       "      <th>variant</th>\n",
       "      <th>image_url</th>\n",
       "      <th>tags</th>\n",
       "    </tr>\n",
       "  </thead>\n",
       "  <tbody>\n",
       "    <tr>\n",
       "      <th>0</th>\n",
       "      <td>0</td>\n",
       "      <td>0</td>\n",
       "      <td>SMPEPGKYW9GZWYVT</td>\n",
       "      <td>Clinic Plus Strong &amp; Thick Health Shampoo</td>\n",
       "      <td>179.0</td>\n",
       "      <td>189.0</td>\n",
       "      <td>340 ml</td>\n",
       "      <td>https://rukminim1.flixcart.com/image/280/280/...</td>\n",
       "      <td>clinic plu strong &amp; thick health shampoo</td>\n",
       "    </tr>\n",
       "    <tr>\n",
       "      <th>1</th>\n",
       "      <td>1</td>\n",
       "      <td>1</td>\n",
       "      <td>BWSFH4YQYC9RSNZU</td>\n",
       "      <td>DOVE Deeply Nourishing Body Wash</td>\n",
       "      <td>360.0</td>\n",
       "      <td>360.0</td>\n",
       "      <td>800 ml</td>\n",
       "      <td>https://rukminim1.flixcart.com/image/280/280/...</td>\n",
       "      <td>dove deepli nourish bodi wash</td>\n",
       "    </tr>\n",
       "  </tbody>\n",
       "</table>\n",
       "</div>"
      ],
      "text/plain": [
       "   Unnamed: 0.1  Unnamed: 0                id  \\\n",
       "0             0           0  SMPEPGKYW9GZWYVT   \n",
       "1             1           1  BWSFH4YQYC9RSNZU   \n",
       "\n",
       "                                         name   price     mrp  variant  \\\n",
       "0   Clinic Plus Strong & Thick Health Shampoo   179.0   189.0   340 ml   \n",
       "1            DOVE Deeply Nourishing Body Wash   360.0   360.0   800 ml   \n",
       "\n",
       "                                           image_url  \\\n",
       "0   https://rukminim1.flixcart.com/image/280/280/...   \n",
       "1   https://rukminim1.flixcart.com/image/280/280/...   \n",
       "\n",
       "                                       tags  \n",
       "0  clinic plu strong & thick health shampoo  \n",
       "1             dove deepli nourish bodi wash  "
      ]
     },
     "execution_count": 74,
     "metadata": {},
     "output_type": "execute_result"
    }
   ],
   "source": [
    "df.head(2)"
   ]
  },
  {
   "cell_type": "markdown",
   "metadata": {},
   "source": [
    "## Model training"
   ]
  },
  {
   "cell_type": "code",
   "execution_count": 75,
   "metadata": {},
   "outputs": [],
   "source": [
    "from sklearn.feature_extraction.text import CountVectorizer\n",
    "cv = CountVectorizer( max_features=2000,stop_words=\"english\" )"
   ]
  },
  {
   "cell_type": "code",
   "execution_count": 76,
   "metadata": {},
   "outputs": [],
   "source": [
    "vectors = cv.fit_transform(df['tags']).toarray()"
   ]
  },
  {
   "cell_type": "code",
   "execution_count": 77,
   "metadata": {},
   "outputs": [],
   "source": [
    "from sklearn.metrics.pairwise import cosine_similarity"
   ]
  },
  {
   "cell_type": "code",
   "execution_count": 78,
   "metadata": {},
   "outputs": [],
   "source": [
    "similarity = cosine_similarity(vectors)"
   ]
  },
  {
   "cell_type": "code",
   "execution_count": 79,
   "metadata": {},
   "outputs": [
    {
     "data": {
      "text/plain": [
       "[(739, 0.5163977794943223),\n",
       " (694, 0.36514837167011077),\n",
       " (796, 0.36514837167011077),\n",
       " (570, 0.25819888974716115),\n",
       " (185, 0.2480694691784169)]"
      ]
     },
     "execution_count": 79,
     "metadata": {},
     "output_type": "execute_result"
    }
   ],
   "source": [
    "sorted(list(enumerate(similarity[1])),reverse = True , key=lambda x:x[1])[1:6]"
   ]
  },
  {
   "cell_type": "code",
   "execution_count": 80,
   "metadata": {},
   "outputs": [],
   "source": [
    "def recommended(product):\n",
    "    name_index = df[df['name'].str.contains(product)].index[0]\n",
    "    distances = sorted(list(enumerate(similarity[name_index])),reverse = True ,key=lambda x:x[1])\n",
    "    \n",
    "    \n",
    "    for i in distances[1:6]:\n",
    "        print(df.iloc[i[0]][['name','variant','price','image_url']])\n",
    "        print(\"----------------------------------------------------\\n\")\n",
    "        "
   ]
  },
  {
   "cell_type": "code",
   "execution_count": 81,
   "metadata": {},
   "outputs": [
    {
     "name": "stdout",
     "output_type": "stream",
     "text": [
      "name                NIVEA Body Wash\n",
      "variant                       239.0\n",
      "price         Fresh Pure Shower Gel\n",
      "image_url                    500 ml\n",
      "Name: 739, dtype: object\n",
      "----------------------------------------------------\n",
      "\n",
      "name                      DETTOL Cool Body Wash and Shower Gel\n",
      "variant                                                 250 ml\n",
      "price                                                    160.0\n",
      "image_url     https://rukminim1.flixcart.com/image/280/280/...\n",
      "Name: 694, dtype: object\n",
      "----------------------------------------------------\n",
      "\n",
      "name                   DETTOL Refresh Body Wash and Shower Gel\n",
      "variant                                                 250 ml\n",
      "price                                                    160.0\n",
      "image_url     https://rukminim1.flixcart.com/image/280/280/...\n",
      "Name: 796, dtype: object\n",
      "----------------------------------------------------\n",
      "\n",
      "name          NIVEA Body Lotion\n",
      "variant         for Men & Women\n",
      "price            Aloe Hydration\n",
      "image_url                 399.0\n",
      "Name: 570, dtype: object\n",
      "----------------------------------------------------\n",
      "\n",
      "name          LIFEBUOY Total 10 Hand Wash Refill Hand Wash ...\n",
      "variant                                                  1.5 L\n",
      "price                                                    199.0\n",
      "image_url     https://rukminim1.flixcart.com/image/280/280/...\n",
      "Name: 185, dtype: object\n",
      "----------------------------------------------------\n",
      "\n"
     ]
    }
   ],
   "source": [
    "recommended('DOVE Deeply Nourishing Body Wash')"
   ]
  },
  {
   "cell_type": "code",
   "execution_count": 82,
   "metadata": {},
   "outputs": [],
   "source": [
    "import pickle"
   ]
  },
  {
   "cell_type": "code",
   "execution_count": null,
   "metadata": {},
   "outputs": [],
   "source": [
    "pickle.dump(df,open('movie_list.pkl','wb'))\n",
    "pickle.dump(similarity,open('similarity.pkl','wb'))"
   ]
  }
 ],
 "metadata": {
  "kernelspec": {
   "display_name": "Python 3",
   "language": "python",
   "name": "python3"
  },
  "language_info": {
   "codemirror_mode": {
    "name": "ipython",
    "version": 3
   },
   "file_extension": ".py",
   "mimetype": "text/x-python",
   "name": "python",
   "nbconvert_exporter": "python",
   "pygments_lexer": "ipython3",
   "version": "3.9.0"
  }
 },
 "nbformat": 4,
 "nbformat_minor": 2
}
